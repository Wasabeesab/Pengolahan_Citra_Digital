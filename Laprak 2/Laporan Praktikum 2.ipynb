{
 "cells": [
  {
   "cell_type": "markdown",
   "id": "829a078a-10ba-4ec6-9d05-1aed449ef1a3",
   "metadata": {},
   "source": [
    "Import Library"
   ]
  },
  {
   "cell_type": "code",
   "execution_count": 2,
   "id": "a50d4678-e16f-4fd6-9cad-4048b9975927",
   "metadata": {},
   "outputs": [],
   "source": [
    "import cv2\n",
    "import numpy as np"
   ]
  },
  {
   "cell_type": "markdown",
   "id": "70adb15c-7689-470c-bb81-5516835353e8",
   "metadata": {},
   "source": [
    "Membaca Citra"
   ]
  },
  {
   "cell_type": "code",
   "execution_count": 4,
   "id": "0e25e478-f8b9-4662-9ad7-5ec934c56e8c",
   "metadata": {},
   "outputs": [],
   "source": [
    "citra = cv2.imread('Capybara.jpg')"
   ]
  },
  {
   "cell_type": "code",
   "execution_count": 5,
   "id": "c6e8d6d7-3dca-495a-9788-e18c97c4d473",
   "metadata": {},
   "outputs": [],
   "source": [
    "cv2.imshow(\"citra asli\", citra)\n",
    "cv2.waitKey(10)\n",
    "cv2.destroyAllWindows()"
   ]
  },
  {
   "cell_type": "markdown",
   "id": "7871444f-c08e-4ba5-8204-1413fc23249f",
   "metadata": {},
   "source": [
    "Dimensi Citra"
   ]
  },
  {
   "cell_type": "code",
   "execution_count": 7,
   "id": "001036d3-5eb1-4c40-8d3a-0d41ffa5f6bd",
   "metadata": {},
   "outputs": [
    {
     "name": "stdout",
     "output_type": "stream",
     "text": [
      "(4000, 4000, 3)\n",
      "uint8\n"
     ]
    }
   ],
   "source": [
    "print(citra.shape)\n",
    "print(citra.dtype)"
   ]
  },
  {
   "cell_type": "markdown",
   "id": "9e40ccaa-d5b0-4f6a-82ce-495ddb3d28c5",
   "metadata": {},
   "source": [
    "Splitting Citra RGB/BGR"
   ]
  },
  {
   "cell_type": "code",
   "execution_count": 8,
   "id": "c6e80896-218e-481d-9a8e-34cdfa9d5774",
   "metadata": {},
   "outputs": [],
   "source": [
    "b = citra[:,:,0] #biru 0\n",
    "g = citra[:,:,1] #hijau 1\n",
    "r = citra[:,:,2] #merah 2 "
   ]
  },
  {
   "cell_type": "markdown",
   "id": "4e0a6b8d-c558-41c6-be49-cb343e59e195",
   "metadata": {},
   "source": [
    "RGB to Grayscale"
   ]
  },
  {
   "cell_type": "code",
   "execution_count": 24,
   "id": "8cb30d2b-850e-41a3-bef5-48dabf352a56",
   "metadata": {},
   "outputs": [],
   "source": [
    "panjang = len(citra) #menghitung baris\n",
    "lebar = len(citra[0]) #menghitung kolom\n",
    "\n",
    "citra_gray = np.zeros((panjang,lebar))\n",
    "\n",
    "for i in range (panjang):\n",
    "    for j in range (lebar):\n",
    "        citra_gray[i,j] = 0.2989 * r[i,j] + 0.587 * g[i,j] + 0.1141 * b[i,j]\n",
    "\n",
    "citra_gray = citra_gray.astype(np.uint8)\n",
    "\n",
    "cv2.imshow(\"citra gray\", citra_gray)\n",
    "cv2.waitKey(10)\n",
    "cv2.destroyAllWindows()"
   ]
  },
  {
   "cell_type": "code",
   "execution_count": 26,
   "id": "83f7ac7a-f470-4c43-ad38-5d5009a2d478",
   "metadata": {},
   "outputs": [
    {
     "name": "stdout",
     "output_type": "stream",
     "text": [
      "[[[255 255 255]\n",
      "  [255 255 255]\n",
      "  [255 255 255]\n",
      "  ...\n",
      "  [255 255 255]\n",
      "  [255 255 255]\n",
      "  [255 255 255]]\n",
      "\n",
      " [[255 255 255]\n",
      "  [255 255 255]\n",
      "  [255 255 255]\n",
      "  ...\n",
      "  [255 255 255]\n",
      "  [255 255 255]\n",
      "  [255 255 255]]\n",
      "\n",
      " [[255 255 255]\n",
      "  [255 255 255]\n",
      "  [255 255 255]\n",
      "  ...\n",
      "  [255 255 255]\n",
      "  [255 255 255]\n",
      "  [255 255 255]]\n",
      "\n",
      " ...\n",
      "\n",
      " [[255 255 255]\n",
      "  [255 255 255]\n",
      "  [255 255 255]\n",
      "  ...\n",
      "  [255 255 255]\n",
      "  [255 255 255]\n",
      "  [255 255 255]]\n",
      "\n",
      " [[255 255 255]\n",
      "  [255 255 255]\n",
      "  [255 255 255]\n",
      "  ...\n",
      "  [255 255 255]\n",
      "  [255 255 255]\n",
      "  [255 255 255]]\n",
      "\n",
      " [[255 255 255]\n",
      "  [255 255 255]\n",
      "  [255 255 255]\n",
      "  ...\n",
      "  [255 255 255]\n",
      "  [255 255 255]\n",
      "  [255 255 255]]]\n"
     ]
    }
   ],
   "source": [
    "print(citra)"
   ]
  },
  {
   "cell_type": "code",
   "execution_count": 28,
   "id": "6f6423e7-7fb1-4bc7-8964-9e2f4346994f",
   "metadata": {},
   "outputs": [
    {
     "name": "stdout",
     "output_type": "stream",
     "text": [
      "[[254 254 254 ... 254 254 254]\n",
      " [254 254 254 ... 254 254 254]\n",
      " [254 254 254 ... 254 254 254]\n",
      " ...\n",
      " [254 254 254 ... 254 254 254]\n",
      " [254 254 254 ... 254 254 254]\n",
      " [254 254 254 ... 254 254 254]]\n"
     ]
    }
   ],
   "source": [
    "print(citra_gray)"
   ]
  },
  {
   "cell_type": "code",
   "execution_count": 34,
   "id": "571d51e8-9ff3-44b8-8ca9-c186d1e080bc",
   "metadata": {},
   "outputs": [],
   "source": [
    "panjang = len(citra) \n",
    "lebar = len(citra[0]) \n",
    "\n",
    "ambang = 120\n",
    "#skala penggunaan hitam atau putih untuk gambar\n",
    "\n",
    "citra_biner = np.zeros((panjang,lebar))\n",
    "\n",
    "for i in range (panjang):\n",
    "    for j in range (lebar):\n",
    "        if citra_gray[i,j] >= ambang:\n",
    "            citra_biner[i,j] = 1 #putih\n",
    "        else :\n",
    "            citra_biner[i,j] = 0 #hitam \n",
    "        \n",
    "cv2.imshow(\"citra binary\", citra_biner)\n",
    "cv2.waitKey(10)\n",
    "cv2.destroyAllWindows()"
   ]
  },
  {
   "cell_type": "code",
   "execution_count": 36,
   "id": "bb0a9665-564f-42b9-a84e-1232c6f1cb11",
   "metadata": {},
   "outputs": [
    {
     "name": "stdout",
     "output_type": "stream",
     "text": [
      "[[254 254 254 ... 254 254 254]\n",
      " [254 254 254 ... 254 254 254]\n",
      " [254 254 254 ... 254 254 254]\n",
      " ...\n",
      " [254 254 254 ... 254 254 254]\n",
      " [254 254 254 ... 254 254 254]\n",
      " [254 254 254 ... 254 254 254]]\n"
     ]
    }
   ],
   "source": [
    "print(citra_gray)"
   ]
  },
  {
   "cell_type": "code",
   "execution_count": 38,
   "id": "356d9f49-c571-4cfb-8152-c94e8635677a",
   "metadata": {},
   "outputs": [
    {
     "name": "stdout",
     "output_type": "stream",
     "text": [
      "[[1. 1. 1. ... 1. 1. 1.]\n",
      " [1. 1. 1. ... 1. 1. 1.]\n",
      " [1. 1. 1. ... 1. 1. 1.]\n",
      " ...\n",
      " [1. 1. 1. ... 1. 1. 1.]\n",
      " [1. 1. 1. ... 1. 1. 1.]\n",
      " [1. 1. 1. ... 1. 1. 1.]]\n"
     ]
    }
   ],
   "source": [
    "print(citra_biner)"
   ]
  },
  {
   "cell_type": "code",
   "execution_count": 40,
   "id": "fe33de20-0e78-444b-b5bb-43ef77479642",
   "metadata": {},
   "outputs": [
    {
     "name": "stdout",
     "output_type": "stream",
     "text": [
      "1.0\n"
     ]
    }
   ],
   "source": [
    "print(citra_biner[50,50])"
   ]
  },
  {
   "cell_type": "code",
   "execution_count": null,
   "id": "ee5b60b2-48cc-49f6-b8c5-ee399a859254",
   "metadata": {},
   "outputs": [],
   "source": []
  }
 ],
 "metadata": {
  "kernelspec": {
   "display_name": "Python 3 (ipykernel)",
   "language": "python",
   "name": "python3"
  },
  "language_info": {
   "codemirror_mode": {
    "name": "ipython",
    "version": 3
   },
   "file_extension": ".py",
   "mimetype": "text/x-python",
   "name": "python",
   "nbconvert_exporter": "python",
   "pygments_lexer": "ipython3",
   "version": "3.12.4"
  }
 },
 "nbformat": 4,
 "nbformat_minor": 5
}
